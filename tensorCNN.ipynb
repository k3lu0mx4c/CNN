{
 "metadata": {
  "language_info": {
   "codemirror_mode": {
    "name": "ipython",
    "version": 3
   },
   "file_extension": ".py",
   "mimetype": "text/x-python",
   "name": "python",
   "nbconvert_exporter": "python",
   "pygments_lexer": "ipython3",
   "version": "3.8.5-final"
  },
  "orig_nbformat": 2,
  "kernelspec": {
   "name": "python3",
   "display_name": "Python 3.8.5 64-bit (conda)",
   "metadata": {
    "interpreter": {
     "hash": "183bbf6827d058c2a2fb0f4acdc0420849dda2b4380af0e437e38c64d798d8b7"
    }
   }
  }
 },
 "nbformat": 4,
 "nbformat_minor": 2,
 "cells": [
  {
   "cell_type": "code",
   "execution_count": 1,
   "metadata": {},
   "outputs": [],
   "source": [
    "import tensorflow as tf\n",
    "import numpy as np\n",
    "import pandas as pd\n",
    "import matplotlib.pyplot as plt"
   ]
  },
  {
   "cell_type": "code",
   "execution_count": 2,
   "metadata": {},
   "outputs": [],
   "source": [
    "def cnn_model_fn_verbosity(features, labels, mode):\n",
    "    \"\"\"Model function for CNN\"\"\"\n",
    "    input_layer = tf.reshape(features['x'], shape = [-1, 28,28,1])\n",
    "    #Convo Layer 1\n",
    "    conv1 = tf.layers.conv2d(inputs = input_layer, filters = 32, kernel_size = [5,5], padding = 'same', activation = tf.nn.relu)\n",
    "    # N1 = (N + 2P -f)/S + 1\n",
    "    pool1 = tf.layers.max_pooling2d(inputs = conv1, pool_size = [2,2], strides = 2)\n",
    "    # convol layer 2\n",
    "    conv2 = tf.layers.conv2d(inputs=pool1,filters = 64, kernel_size = [5,5], padding = 'same', activation = tf.nn.relu)\n",
    "    pool2 = tf.layers.max_pooling2d(inputs = conv2,pool_size = [2,2], strides = 2)\n",
    "    #Dense layer\n",
    "    flat  = tf.reshape(pool2, [-1,7*7*64])\n",
    "    dense  =tf.layers.dense(inputs=flat, units = 1024, activation = tf.nn.relu)\n",
    "    dropout = tf.layers.dropout(inputs = dense, rate = 0.4, training = mode == tf.estimator.ModeKeys.TRAIN)\n",
    "    #logits layer\n",
    "    logits =  tf.layers.dense(inputs = dropout,units = 10)\n",
    "    predictions = {'classes': tf.argmax(input = logits, axis = 1, name = 'class_tensor'), 'probabilities': tf.nn.softmax(logits, name ='softmax_texnsor')}\n",
    "    if mode == tf.estimator.ModeKeys.PREDICT:\n",
    "        return tf.estimator.EstimatorSpec(mode = mode, predictions = predictions)\n",
    "    loss = tf.losses.sparse_sofmax_cross_entropy(labels = labels, logits = logits)\n",
    "    if mode == tf.estimator.ModeKeys.TRAIN:\n",
    "        optimizer = tf.train.Adam"
   ]
  },
  {
   "cell_type": "code",
   "execution_count": 5,
   "metadata": {},
   "outputs": [
    {
     "output_type": "error",
     "ename": "AttributeError",
     "evalue": "module 'tensorflow._api.v2.train' has no attribute 'AdamOptimizer'",
     "traceback": [
      "\u001b[1;31m---------------------------------------------------------------------------\u001b[0m",
      "\u001b[1;31mAttributeError\u001b[0m                            Traceback (most recent call last)",
      "\u001b[1;32m<ipython-input-5-c5d3be0044b5>\u001b[0m in \u001b[0;36m<module>\u001b[1;34m\u001b[0m\n\u001b[1;32m----> 1\u001b[1;33m \u001b[0mtf\u001b[0m\u001b[1;33m.\u001b[0m\u001b[0mtrain\u001b[0m\u001b[1;33m.\u001b[0m\u001b[0mAdamOptimizer\u001b[0m\u001b[1;33m(\u001b[0m\u001b[1;33m)\u001b[0m\u001b[1;33m\u001b[0m\u001b[1;33m\u001b[0m\u001b[0m\n\u001b[0m",
      "\u001b[1;31mAttributeError\u001b[0m: module 'tensorflow._api.v2.train' has no attribute 'AdamOptimizer'"
     ]
    }
   ],
   "source": [
    "tf.train.AdamOptimizer()"
   ]
  }
 ]
}