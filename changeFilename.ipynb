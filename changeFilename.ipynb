{
 "metadata": {
  "language_info": {
   "codemirror_mode": {
    "name": "ipython",
    "version": 3
   },
   "file_extension": ".py",
   "mimetype": "text/x-python",
   "name": "python",
   "nbconvert_exporter": "python",
   "pygments_lexer": "ipython3",
   "version": "3.8.5-final"
  },
  "orig_nbformat": 2,
  "kernelspec": {
   "name": "python3",
   "display_name": "Python 3.8.5 64-bit (conda)",
   "metadata": {
    "interpreter": {
     "hash": "183bbf6827d058c2a2fb0f4acdc0420849dda2b4380af0e437e38c64d798d8b7"
    }
   }
  }
 },
 "nbformat": 4,
 "nbformat_minor": 2,
 "cells": [
  {
   "cell_type": "code",
   "execution_count": 1,
   "metadata": {},
   "outputs": [],
   "source": [
    "import os"
   ]
  },
  {
   "cell_type": "code",
   "execution_count": 5,
   "metadata": {},
   "outputs": [],
   "source": [
    "pathFolder = r'C:\\Users\\Admin\\Documents\\GitHub\\markrcnn\\Front_page_Color_1_100_output\\data\\obj'\n",
    "f = []\n",
    "for (dirpath, dirname, filename) in os.walk(pathFolder):\n",
    "    f.extend(filename)\n",
    "    break"
   ]
  },
  {
   "cell_type": "code",
   "execution_count": 6,
   "metadata": {},
   "outputs": [
    {
     "output_type": "execute_result",
     "data": {
      "text/plain": [
       "['1 (1).jpeg',\n",
       " '1 (1).jpg',\n",
       " '1 (1).png',\n",
       " '1 (1).txt',\n",
       " '1 (10).jpg',\n",
       " '1 (10).txt',\n",
       " '1 (11).jpg',\n",
       " '1 (11).txt',\n",
       " '1 (12).jpg',\n",
       " '1 (12).txt',\n",
       " '1 (13).jpg',\n",
       " '1 (13).txt',\n",
       " '1 (14).jpg',\n",
       " '1 (14).txt',\n",
       " '1 (15).jpg',\n",
       " '1 (15).txt',\n",
       " '1 (16).jpg',\n",
       " '1 (16).txt',\n",
       " '1 (17).jpg',\n",
       " '1 (17).txt',\n",
       " '1 (18).jpg',\n",
       " '1 (18).txt',\n",
       " '1 (19).jpg',\n",
       " '1 (19).txt',\n",
       " '1 (2).jpeg',\n",
       " '1 (2).jpg',\n",
       " '1 (2).png',\n",
       " '1 (2).txt',\n",
       " '1 (20).jpg',\n",
       " '1 (20).txt',\n",
       " '1 (21).jpg',\n",
       " '1 (21).txt',\n",
       " '1 (22).jpg',\n",
       " '1 (22).txt',\n",
       " '1 (23).jpg',\n",
       " '1 (23).txt',\n",
       " '1 (24).jpg',\n",
       " '1 (24).txt',\n",
       " '1 (25).jpg',\n",
       " '1 (25).txt',\n",
       " '1 (26).jpg',\n",
       " '1 (26).txt',\n",
       " '1 (27).jpg',\n",
       " '1 (27).txt',\n",
       " '1 (28).jpg',\n",
       " '1 (28).txt',\n",
       " '1 (29).jpg',\n",
       " '1 (29).txt',\n",
       " '1 (3).jpg',\n",
       " '1 (3).txt',\n",
       " '1 (30).jpg',\n",
       " '1 (30).txt',\n",
       " '1 (31).jpg',\n",
       " '1 (31).txt',\n",
       " '1 (32).jpg',\n",
       " '1 (32).txt',\n",
       " '1 (33).jpg',\n",
       " '1 (33).txt',\n",
       " '1 (34).jpg',\n",
       " '1 (34).txt',\n",
       " '1 (35).jpg',\n",
       " '1 (35).txt',\n",
       " '1 (36).jpg',\n",
       " '1 (36).txt',\n",
       " '1 (37).jpg',\n",
       " '1 (37).txt',\n",
       " '1 (38).jpg',\n",
       " '1 (38).txt',\n",
       " '1 (39).jpg',\n",
       " '1 (39).txt',\n",
       " '1 (4).jpg',\n",
       " '1 (4).txt',\n",
       " '1 (40).jpg',\n",
       " '1 (40).txt',\n",
       " '1 (41).jpg',\n",
       " '1 (41).txt',\n",
       " '1 (42).jpg',\n",
       " '1 (42).txt',\n",
       " '1 (43).jpg',\n",
       " '1 (43).txt',\n",
       " '1 (44).jpg',\n",
       " '1 (44).txt',\n",
       " '1 (45).jpg',\n",
       " '1 (45).txt',\n",
       " '1 (46).jpg',\n",
       " '1 (46).txt',\n",
       " '1 (47).jpg',\n",
       " '1 (47).txt',\n",
       " '1 (48).jpg',\n",
       " '1 (48).txt',\n",
       " '1 (49).jpg',\n",
       " '1 (49).txt',\n",
       " '1 (5).jpg',\n",
       " '1 (5).txt',\n",
       " '1 (50).jpg',\n",
       " '1 (50).txt',\n",
       " '1 (51).jpg',\n",
       " '1 (51).txt',\n",
       " '1 (52).jpg',\n",
       " '1 (52).txt',\n",
       " '1 (53).jpg',\n",
       " '1 (53).txt',\n",
       " '1 (54).jpg',\n",
       " '1 (54).txt',\n",
       " '1 (55).jpg',\n",
       " '1 (55).txt',\n",
       " '1 (56).jpg',\n",
       " '1 (56).txt',\n",
       " '1 (57).jpg',\n",
       " '1 (57).txt',\n",
       " '1 (58).jpg',\n",
       " '1 (58).txt',\n",
       " '1 (59).jpg',\n",
       " '1 (59).txt',\n",
       " '1 (6).jpg',\n",
       " '1 (6).txt',\n",
       " '1 (60).jpg',\n",
       " '1 (60).txt',\n",
       " '1 (61).jpg',\n",
       " '1 (61).txt',\n",
       " '1 (62).jpg',\n",
       " '1 (62).txt',\n",
       " '1 (63).jpg',\n",
       " '1 (63).txt',\n",
       " '1 (64).jpg',\n",
       " '1 (64).txt',\n",
       " '1 (65).jpg',\n",
       " '1 (65).txt',\n",
       " '1 (66).jpg',\n",
       " '1 (66).txt',\n",
       " '1 (67).jpg',\n",
       " '1 (67).txt',\n",
       " '1 (68).jpg',\n",
       " '1 (68).txt',\n",
       " '1 (69).jpg',\n",
       " '1 (69).txt',\n",
       " '1 (7).jpg',\n",
       " '1 (7).txt',\n",
       " '1 (70).jpg',\n",
       " '1 (70).txt',\n",
       " '1 (71).jpg',\n",
       " '1 (71).txt',\n",
       " '1 (72).jpg',\n",
       " '1 (72).txt',\n",
       " '1 (73).jpg',\n",
       " '1 (73).txt',\n",
       " '1 (74).jpg',\n",
       " '1 (74).txt',\n",
       " '1 (75).jpg',\n",
       " '1 (75).txt',\n",
       " '1 (76).jpg',\n",
       " '1 (76).txt',\n",
       " '1 (77).jpg',\n",
       " '1 (77).txt',\n",
       " '1 (78).jpg',\n",
       " '1 (78).txt',\n",
       " '1 (79).jpg',\n",
       " '1 (79).txt',\n",
       " '1 (8).jpg',\n",
       " '1 (8).txt',\n",
       " '1 (80).jpg',\n",
       " '1 (80).txt',\n",
       " '1 (81).jpg',\n",
       " '1 (81).txt',\n",
       " '1 (82).jpg',\n",
       " '1 (82).txt',\n",
       " '1 (83).jpg',\n",
       " '1 (83).txt',\n",
       " '1 (84).jpg',\n",
       " '1 (84).txt',\n",
       " '1 (85).jpg',\n",
       " '1 (85).txt',\n",
       " '1 (86).jpg',\n",
       " '1 (86).txt',\n",
       " '1 (88).jpg',\n",
       " '1 (88).txt',\n",
       " '1 (89).jpg',\n",
       " '1 (89).txt',\n",
       " '1 (9).jpg',\n",
       " '1 (9).txt',\n",
       " '1 (90).jpg',\n",
       " '1 (90).txt',\n",
       " '1 (91).jpg',\n",
       " '1 (91).txt',\n",
       " '1 (92).jpg',\n",
       " '1 (92).txt',\n",
       " '1 (93).jpg',\n",
       " '1 (93).txt',\n",
       " '1 (94).jpg',\n",
       " '1 (94).txt',\n",
       " '1 (95).jpg',\n",
       " '1 (95).txt',\n",
       " '1 (96).jpg',\n",
       " '1 (96).txt']"
      ]
     },
     "metadata": {},
     "execution_count": 6
    }
   ],
   "source": [
    "f"
   ]
  },
  {
   "cell_type": "code",
   "execution_count": 8,
   "metadata": {},
   "outputs": [
    {
     "output_type": "stream",
     "name": "stdout",
     "text": [
      "error\nerror\nerror\nerror\n"
     ]
    }
   ],
   "source": [
    "for i in range(1,100):\n",
    "    try:\n",
    "        os.rename(pathFolder +'\\\\'+ '1 ({}).txt'.format(i),pathFolder+'\\\\'+ '{}.txt'.format(i))\n",
    "        os.rename(pathFolder +'\\\\' + '1 ({}).jpg'.format(i),pathFolder + '\\\\' + '{}.jpg'.format(i))\n",
    "    except:\n",
    "        print('error')"
   ]
  },
  {
   "cell_type": "code",
   "execution_count": 4,
   "metadata": {},
   "outputs": [
    {
     "output_type": "execute_result",
     "data": {
      "text/plain": [
       "False"
      ]
     },
     "metadata": {},
     "execution_count": 4
    }
   ],
   "source": [
    "'1 (99).txt' in f"
   ]
  },
  {
   "cell_type": "code",
   "execution_count": 6,
   "metadata": {},
   "outputs": [
    {
     "output_type": "execute_result",
     "data": {
      "text/plain": [
       "97.0"
      ]
     },
     "metadata": {},
     "execution_count": 6
    }
   ],
   "source": [
    "len(f)/2"
   ]
  },
  {
   "cell_type": "code",
   "execution_count": null,
   "metadata": {},
   "outputs": [],
   "source": []
  }
 ]
}